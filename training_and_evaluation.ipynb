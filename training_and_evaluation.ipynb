{
 "cells": [
  {
   "cell_type": "code",
   "execution_count": 1,
   "metadata": {},
   "outputs": [
    {
     "name": "stderr",
     "output_type": "stream",
     "text": [
      "UsageError: unrecognized arguments: # Automatically re-import files when updated\n"
     ]
    }
   ],
   "source": [
    "%load_ext autoreload\n",
    "%autoreload 2  # Automatically re-import files when updated"
   ]
  },
  {
   "cell_type": "markdown",
   "metadata": {},
   "source": [
    "## Data"
   ]
  },
  {
   "cell_type": "code",
   "execution_count": 1,
   "metadata": {},
   "outputs": [],
   "source": [
    "from data_sets import *\n",
    "\n",
    "size_training = 5000\n",
    "size_test = 100\n",
    "generate_data_set(size_training, TRAINING_IMAGE_DIR) # Training set\n",
    "generate_data_set(size_test, TEST_IMAGE_DIR) # Test set"
   ]
  },
  {
   "cell_type": "markdown",
   "metadata": {},
   "source": [
    "## Modeling"
   ]
  },
  {
   "cell_type": "code",
   "execution_count": 1,
   "metadata": {},
   "outputs": [
    {
     "name": "stdout",
     "output_type": "stream",
     "text": [
      "Model: \"sequential\"\n",
      "_________________________________________________________________\n",
      " Layer (type)                Output Shape              Param #   \n",
      "=================================================================\n",
      " reshape (Reshape)           (None, 32, 32, 1)         0         \n",
      "                                                                 \n",
      " conv2d (Conv2D)             (None, 32, 32, 24)        624       \n",
      "                                                                 \n",
      " conv2d_1 (Conv2D)           (None, 32, 32, 24)        14424     \n",
      "                                                                 \n",
      " max_pooling2d (MaxPooling2D  (None, 16, 16, 24)       0         \n",
      " )                                                               \n",
      "                                                                 \n",
      " conv2d_2 (Conv2D)           (None, 16, 16, 24)        14424     \n",
      "                                                                 \n",
      " conv2d_3 (Conv2D)           (None, 16, 16, 24)        14424     \n",
      "                                                                 \n",
      " max_pooling2d_1 (MaxPooling  (None, 8, 8, 24)         0         \n",
      " 2D)                                                             \n",
      "                                                                 \n",
      " conv2d_4 (Conv2D)           (None, 8, 8, 24)          5208      \n",
      "                                                                 \n",
      " max_pooling2d_2 (MaxPooling  (None, 4, 4, 24)         0         \n",
      " 2D)                                                             \n",
      "                                                                 \n",
      " flatten (Flatten)           (None, 384)               0         \n",
      "                                                                 \n",
      " dense (Dense)               (None, 32)                12320     \n",
      "                                                                 \n",
      " dropout (Dropout)           (None, 32)                0         \n",
      "                                                                 \n",
      " dense_1 (Dense)             (None, 32)                1056      \n",
      "                                                                 \n",
      " dense_2 (Dense)             (None, 32)                1056      \n",
      "                                                                 \n",
      " dropout_1 (Dropout)         (None, 32)                0         \n",
      "                                                                 \n",
      " dense_3 (Dense)             (None, 32)                1056      \n",
      "                                                                 \n",
      " dense_4 (Dense)             (None, 3)                 99        \n",
      "                                                                 \n",
      "=================================================================\n",
      "Total params: 64,691\n",
      "Trainable params: 64,691\n",
      "Non-trainable params: 0\n",
      "_________________________________________________________________\n"
     ]
    }
   ],
   "source": [
    "from model import build_model, train_model\n",
    "from tensorflow.keras.losses import CategoricalCrossentropy\n",
    "\n",
    "# Create model\n",
    "cce = CategoricalCrossentropy() # Loss function\n",
    "filters = 24\n",
    "kernel_size = 5\n",
    "units = 32\n",
    "model = build_model(filters, \n",
    "                    kernel_size, \n",
    "                    units, \n",
    "                    ll_activation=\"softmax\", \n",
    "                    loss=cce)\n",
    "\n",
    "\n",
    "model.summary()"
   ]
  },
  {
   "cell_type": "code",
   "execution_count": 2,
   "metadata": {},
   "outputs": [
    {
     "name": "stdout",
     "output_type": "stream",
     "text": [
      "Epoch 1/50\n",
      "137/137 [==============================] - 16s 113ms/step - loss: 2.5159 - val_loss: 1.2759\n",
      "Epoch 2/50\n",
      "137/137 [==============================] - 17s 123ms/step - loss: 1.0721 - val_loss: 0.7513\n",
      "Epoch 3/50\n",
      "137/137 [==============================] - 19s 138ms/step - loss: 0.6427 - val_loss: 0.4852\n",
      "Epoch 4/50\n",
      "137/137 [==============================] - 19s 138ms/step - loss: 0.4268 - val_loss: 0.3254\n",
      "Epoch 5/50\n",
      "137/137 [==============================] - 19s 141ms/step - loss: 0.2816 - val_loss: 0.2232\n",
      "Epoch 6/50\n",
      "137/137 [==============================] - 19s 142ms/step - loss: 0.2098 - val_loss: 0.1652\n",
      "Epoch 7/50\n",
      "137/137 [==============================] - 19s 139ms/step - loss: 0.1598 - val_loss: 0.1257\n",
      "Epoch 8/50\n",
      "137/137 [==============================] - 19s 139ms/step - loss: 0.1174 - val_loss: 0.0929\n",
      "Epoch 9/50\n",
      "137/137 [==============================] - 19s 140ms/step - loss: 0.0875 - val_loss: 0.0710\n",
      "Epoch 10/50\n",
      "137/137 [==============================] - 19s 136ms/step - loss: 0.0728 - val_loss: 0.0582\n",
      "Epoch 11/50\n",
      "137/137 [==============================] - 19s 136ms/step - loss: 0.0626 - val_loss: 0.0463\n",
      "Epoch 12/50\n",
      "137/137 [==============================] - 17s 125ms/step - loss: 0.0544 - val_loss: 0.0379\n",
      "Epoch 13/50\n",
      "137/137 [==============================] - 18s 134ms/step - loss: 0.0486 - val_loss: 0.0362\n",
      "Epoch 14/50\n",
      "137/137 [==============================] - 20s 145ms/step - loss: 0.0506 - val_loss: 0.0345\n",
      "Epoch 15/50\n",
      "137/137 [==============================] - 19s 139ms/step - loss: 0.0445 - val_loss: 0.0282\n",
      "Epoch 16/50\n",
      "137/137 [==============================] - 18s 128ms/step - loss: 0.0325 - val_loss: 0.0232\n",
      "Epoch 17/50\n",
      "137/137 [==============================] - 20s 145ms/step - loss: 0.0260 - val_loss: 0.0194\n",
      "Epoch 18/50\n",
      "137/137 [==============================] - 17s 123ms/step - loss: 0.0267 - val_loss: 0.0203\n",
      "Epoch 19/50\n",
      "137/137 [==============================] - 18s 128ms/step - loss: 0.0472 - val_loss: 0.0306\n",
      "Epoch 20/50\n",
      "137/137 [==============================] - 17s 123ms/step - loss: 0.0310 - val_loss: 0.0219\n",
      "Epoch 21/50\n",
      "137/137 [==============================] - 17s 126ms/step - loss: 0.0239 - val_loss: 0.0179\n",
      "Epoch 22/50\n",
      "137/137 [==============================] - 17s 121ms/step - loss: 0.0219 - val_loss: 0.0160\n",
      "Epoch 23/50\n",
      "137/137 [==============================] - 18s 130ms/step - loss: 0.0197 - val_loss: 0.0149\n",
      "Epoch 24/50\n",
      "137/137 [==============================] - 18s 131ms/step - loss: 0.0189 - val_loss: 0.0125\n",
      "Epoch 25/50\n",
      "137/137 [==============================] - 17s 127ms/step - loss: 0.0163 - val_loss: 0.0114\n",
      "Epoch 26/50\n",
      "137/137 [==============================] - 17s 127ms/step - loss: 0.0262 - val_loss: 0.0176\n",
      "Epoch 27/50\n",
      "137/137 [==============================] - 17s 123ms/step - loss: 0.0183 - val_loss: 0.0127\n",
      "Epoch 28/50\n",
      "137/137 [==============================] - 18s 132ms/step - loss: 0.0199 - val_loss: 0.0119\n",
      "Epoch 29/50\n",
      "137/137 [==============================] - 18s 128ms/step - loss: 0.0142 - val_loss: 0.0097\n",
      "Epoch 30/50\n",
      "137/137 [==============================] - 18s 134ms/step - loss: 0.0106 - val_loss: 0.0080\n",
      "Epoch 31/50\n",
      "137/137 [==============================] - 18s 134ms/step - loss: 0.0160 - val_loss: 0.0135\n",
      "Epoch 32/50\n",
      "137/137 [==============================] - 18s 132ms/step - loss: 0.0138 - val_loss: 0.0090\n",
      "Epoch 33/50\n",
      "137/137 [==============================] - 19s 135ms/step - loss: 0.0099 - val_loss: 0.0070\n",
      "Epoch 34/50\n",
      "137/137 [==============================] - 18s 133ms/step - loss: 0.0087 - val_loss: 0.0060\n",
      "Epoch 35/50\n",
      "137/137 [==============================] - 19s 135ms/step - loss: 0.0089 - val_loss: 0.0065\n",
      "Epoch 36/50\n",
      "137/137 [==============================] - 20s 149ms/step - loss: 0.0095 - val_loss: 0.0053\n",
      "Epoch 37/50\n",
      "137/137 [==============================] - 19s 142ms/step - loss: 0.0107 - val_loss: 0.0075\n",
      "Epoch 38/50\n",
      "137/137 [==============================] - 19s 136ms/step - loss: 0.0164 - val_loss: 0.0111\n",
      "Epoch 39/50\n",
      "137/137 [==============================] - 19s 137ms/step - loss: 0.0127 - val_loss: 0.0077\n",
      "Epoch 40/50\n",
      "137/137 [==============================] - 20s 143ms/step - loss: 0.0103 - val_loss: 0.0057\n",
      "Epoch 41/50\n",
      "137/137 [==============================] - 18s 134ms/step - loss: 0.0068 - val_loss: 0.0047\n",
      "Epoch 42/50\n",
      "137/137 [==============================] - 19s 136ms/step - loss: 0.0074 - val_loss: 0.0043\n",
      "Epoch 43/50\n",
      "137/137 [==============================] - 19s 137ms/step - loss: 0.0062 - val_loss: 0.0037\n",
      "Epoch 44/50\n",
      "137/137 [==============================] - 18s 129ms/step - loss: 0.0074 - val_loss: 0.0042\n",
      "Epoch 45/50\n",
      "137/137 [==============================] - 17s 126ms/step - loss: 0.0057 - val_loss: 0.0036\n",
      "Epoch 46/50\n",
      "137/137 [==============================] - 18s 130ms/step - loss: 0.0047 - val_loss: 0.0031\n",
      "Epoch 47/50\n",
      "137/137 [==============================] - 17s 126ms/step - loss: 0.0107 - val_loss: 0.0212\n",
      "Epoch 48/50\n",
      "137/137 [==============================] - 17s 125ms/step - loss: 0.0384 - val_loss: 0.0155\n",
      "Epoch 49/50\n",
      "137/137 [==============================] - 19s 135ms/step - loss: 0.0174 - val_loss: 0.0124\n",
      "Epoch 50/50\n",
      "137/137 [==============================] - 17s 126ms/step - loss: 0.0111 - val_loss: 0.0082\n"
     ]
    }
   ],
   "source": [
    "# Train model\n",
    "n_validation = 625\n",
    "model = train_model(model, n_validation, epochs=50, write_to_file=True)"
   ]
  },
  {
   "cell_type": "code",
   "execution_count": 4,
   "metadata": {},
   "outputs": [
    {
     "data": {
      "image/png": "[encoded data removed]",
      "text/plain": [
       "<Figure size 640x480 with 1 Axes>"
      ]
     },
     "metadata": {},
     "output_type": "display_data"
    }
   ],
   "source": [
    "import matplotlib.pyplot as plt\n",
    "\n",
    "# Create plot for loss evaluation\n",
    "plt.plot(model.history.history['loss'], label=\"loss\")\n",
    "plt.plot(model.history.history['val_loss'], label=\"val_loss\")\n",
    "plt.xlabel(\"Epoch\")\n",
    "# plt.yscale(\"log\")\n",
    "plt.ylabel(\"Loss\")\n",
    "plt.legend()\n",
    "plt.show()"
   ]
  },
  {
   "cell_type": "markdown",
   "metadata": {},
   "source": [
    "## Evaluation"
   ]
  },
  {
   "cell_type": "code",
   "execution_count": 5,
   "metadata": {},
   "outputs": [
    {
     "name": "stdout",
     "output_type": "stream",
     "text": [
      "4/4 [==============================] - 0s 10ms/step - loss: 0.0082\n"
     ]
    },
    {
     "data": {
      "text/plain": [
       "0.008203081786632538"
      ]
     },
     "execution_count": 5,
     "metadata": {},
     "output_type": "execute_result"
    }
   ],
   "source": [
    "from model import evaluate_model\n",
    "\n",
    "evaluate_model(model)"
   ]
  },
  {
   "cell_type": "code",
   "execution_count": 6,
   "metadata": {},
   "outputs": [
    {
     "name": "stdout",
     "output_type": "stream",
     "text": [
      "1/1 [==============================] - 0s 160ms/step\n"
     ]
    },
    {
     "data": {
      "text/plain": [
       "['J']"
      ]
     },
     "execution_count": 6,
     "metadata": {},
     "output_type": "execute_result"
    }
   ],
   "source": [
    "from model import identify, load_model\n",
    "from PIL import Image\n",
    "\n",
    "model = load_model()\n",
    "\n",
    "img = Image.open(\"data_sets/test_images/J_0.png\")\n",
    "\n",
    "identify(img, model)\n"
   ]
  },
  {
   "cell_type": "markdown",
   "metadata": {},
   "source": [
    "## Visualize performance"
   ]
  },
  {
   "cell_type": "code",
   "execution_count": 7,
   "metadata": {},
   "outputs": [
    {
     "name": "stdout",
     "output_type": "stream",
     "text": [
      "1/1 [==============================] - 0s 28ms/step\n",
      "1/1 [==============================] - 0s 24ms/step\n",
      "1/1 [==============================] - 0s 30ms/step\n",
      "1/1 [==============================] - 0s 26ms/step\n",
      "1/1 [==============================] - 0s 26ms/step\n",
      "1/1 [==============================] - 0s 33ms/step\n",
      "1/1 [==============================] - 0s 24ms/step\n",
      "1/1 [==============================] - 0s 25ms/step\n",
      "1/1 [==============================] - 0s 28ms/step\n",
      "1/1 [==============================] - 0s 27ms/step\n",
      "1/1 [==============================] - 0s 27ms/step\n",
      "1/1 [==============================] - 0s 27ms/step\n",
      "1/1 [==============================] - 0s 33ms/step\n",
      "1/1 [==============================] - 0s 27ms/step\n",
      "1/1 [==============================] - 0s 27ms/step\n",
      "1/1 [==============================] - 0s 28ms/step\n",
      "1/1 [==============================] - 0s 26ms/step\n",
      "1/1 [==============================] - 0s 22ms/step\n",
      "1/1 [==============================] - 0s 28ms/step\n",
      "1/1 [==============================] - 0s 36ms/step\n",
      "1/1 [==============================] - 0s 34ms/step\n",
      "1/1 [==============================] - 0s 34ms/step\n",
      "1/1 [==============================] - 0s 36ms/step\n",
      "1/1 [==============================] - 0s 30ms/step\n",
      "1/1 [==============================] - 0s 28ms/step\n",
      "1/1 [==============================] - 0s 29ms/step\n",
      "1/1 [==============================] - 0s 25ms/step\n",
      "1/1 [==============================] - 0s 29ms/step\n",
      "1/1 [==============================] - 0s 24ms/step\n",
      "1/1 [==============================] - 0s 24ms/step\n",
      "1/1 [==============================] - 0s 24ms/step\n",
      "1/1 [==============================] - 0s 26ms/step\n",
      "1/1 [==============================] - 0s 23ms/step\n",
      "1/1 [==============================] - 0s 25ms/step\n",
      "1/1 [==============================] - 0s 25ms/step\n",
      "1/1 [==============================] - 0s 21ms/step\n",
      "1/1 [==============================] - 0s 23ms/step\n",
      "1/1 [==============================] - 0s 22ms/step\n",
      "1/1 [==============================] - 0s 23ms/step\n",
      "1/1 [==============================] - 0s 22ms/step\n",
      "1/1 [==============================] - 0s 23ms/step\n",
      "1/1 [==============================] - 0s 24ms/step\n",
      "1/1 [==============================] - 0s 23ms/step\n",
      "1/1 [==============================] - 0s 21ms/step\n",
      "1/1 [==============================] - 0s 22ms/step\n",
      "1/1 [==============================] - 0s 21ms/step\n",
      "1/1 [==============================] - 0s 20ms/step\n",
      "1/1 [==============================] - 0s 21ms/step\n",
      "1/1 [==============================] - 0s 21ms/step\n",
      "1/1 [==============================] - 0s 21ms/step\n",
      "1/1 [==============================] - 0s 21ms/step\n",
      "1/1 [==============================] - 0s 22ms/step\n",
      "1/1 [==============================] - 0s 22ms/step\n",
      "1/1 [==============================] - 0s 21ms/step\n",
      "1/1 [==============================] - 0s 20ms/step\n",
      "1/1 [==============================] - 0s 21ms/step\n",
      "1/1 [==============================] - 0s 21ms/step\n",
      "1/1 [==============================] - 0s 21ms/step\n",
      "1/1 [==============================] - 0s 23ms/step\n",
      "1/1 [==============================] - 0s 23ms/step\n",
      "1/1 [==============================] - 0s 24ms/step\n",
      "1/1 [==============================] - 0s 21ms/step\n",
      "1/1 [==============================] - 0s 21ms/step\n",
      "1/1 [==============================] - 0s 21ms/step\n",
      "1/1 [==============================] - 0s 20ms/step\n",
      "1/1 [==============================] - 0s 20ms/step\n",
      "1/1 [==============================] - 0s 23ms/step\n",
      "1/1 [==============================] - 0s 19ms/step\n",
      "1/1 [==============================] - 0s 21ms/step\n",
      "1/1 [==============================] - 0s 23ms/step\n",
      "1/1 [==============================] - 0s 22ms/step\n",
      "1/1 [==============================] - 0s 22ms/step\n",
      "1/1 [==============================] - 0s 20ms/step\n",
      "1/1 [==============================] - 0s 24ms/step\n",
      "1/1 [==============================] - 0s 20ms/step\n",
      "1/1 [==============================] - 0s 23ms/step\n",
      "1/1 [==============================] - 0s 23ms/step\n",
      "1/1 [==============================] - 0s 26ms/step\n",
      "1/1 [==============================] - 0s 21ms/step\n",
      "1/1 [==============================] - 0s 23ms/step\n",
      "1/1 [==============================] - 0s 21ms/step\n",
      "1/1 [==============================] - 0s 20ms/step\n",
      "1/1 [==============================] - 0s 19ms/step\n",
      "1/1 [==============================] - 0s 21ms/step\n",
      "1/1 [==============================] - 0s 20ms/step\n",
      "1/1 [==============================] - 0s 20ms/step\n",
      "1/1 [==============================] - 0s 24ms/step\n",
      "1/1 [==============================] - 0s 24ms/step\n",
      "1/1 [==============================] - 0s 22ms/step\n",
      "1/1 [==============================] - 0s 21ms/step\n",
      "1/1 [==============================] - 0s 21ms/step\n",
      "1/1 [==============================] - 0s 23ms/step\n",
      "1/1 [==============================] - 0s 20ms/step\n",
      "1/1 [==============================] - 0s 19ms/step\n",
      "1/1 [==============================] - 0s 20ms/step\n",
      "1/1 [==============================] - 0s 21ms/step\n",
      "1/1 [==============================] - 0s 21ms/step\n",
      "1/1 [==============================] - 0s 20ms/step\n",
      "1/1 [==============================] - 0s 20ms/step\n",
      "1/1 [==============================] - 0s 20ms/step\n"
     ]
    }
   ],
   "source": [
    "import os\n",
    "import tensorflow as tf\n",
    "from PIL import Image\n",
    "from data_sets import *\n",
    "from model import identify\n",
    "\n",
    "# Create predictions for entire test set\n",
    "pred_label = []\n",
    "true_label = []\n",
    "for img_loc in os.listdir(TEST_IMAGE_DIR):\n",
    "    true_label.append(img_loc[0])\n",
    "    img = Image.open(os.path.join(TEST_IMAGE_DIR, img_loc))\n",
    "    pred_label.append(identify(img, model))\n",
    "pred_label = sum(pred_label, []) # Flatten list\n",
    "\n",
    "# Map string into int\n",
    "map_dict = {\"J\":0, \"Q\":1, \"K\":2}\n",
    "true_label = [map_dict[i] for i in true_label]\n",
    "pred_label = [map_dict[i] for i in pred_label]\n",
    "\n",
    "conf = tf.math.confusion_matrix(true_label, pred_label)   "
   ]
  },
  {
   "cell_type": "code",
   "execution_count": 8,
   "metadata": {},
   "outputs": [
    {
     "name": "stdout",
     "output_type": "stream",
     "text": [
      "1.0\n"
     ]
    }
   ],
   "source": [
    "from tensorflow.keras.metrics import Accuracy\n",
    "\n",
    "# Calculate accuracy\n",
    "m = Accuracy()\n",
    "m.update_state(true_label, pred_label)\n",
    "print(m.result().numpy())"
   ]
  },
  {
   "cell_type": "code",
   "execution_count": 9,
   "metadata": {},
   "outputs": [
    {
     "data": {
      "image/png": "[encoded data removed]",
      "text/plain": [
       "<Figure size 640x480 with 1 Axes>"
      ]
     },
     "metadata": {},
     "output_type": "display_data"
    }
   ],
   "source": [
    "import matplotlib.pyplot as plt\n",
    "\n",
    "# Visualize confusion matrix\n",
    "fig, ax = plt.subplots()\n",
    "ax.imshow(conf, interpolation=None)\n",
    "ax.set_xticks(np.arange(3))\n",
    "ax.set_yticks(np.arange(3))\n",
    "ax.set_xticklabels([i for i in map_dict.keys()])\n",
    "ax.set_yticklabels([i for i in map_dict.keys()])\n",
    "\n",
    "# Add counts to true-prediction label\n",
    "for i in range(3):\n",
    "    for j in range(3):\n",
    "        text = ax.text(j, i, conf[i, j].numpy(),\n",
    "                       ha=\"center\", va=\"center\", color=\"w\")\n",
    "\n",
    "plt.show()"
   ]
  }
 ],
 "metadata": {
  "kernelspec": {
   "display_name": "pokerbot39",
   "language": "python",
   "name": "python3"
  },
  "language_info": {
   "codemirror_mode": {
    "name": "ipython",
    "version": 3
   },
   "file_extension": ".py",
   "mimetype": "text/x-python",
   "name": "python",
   "nbconvert_exporter": "python",
   "pygments_lexer": "ipython3",
   "version": "3.9.13"
  },
  "orig_nbformat": 4
 },
 "nbformat": 4,
 "nbformat_minor": 2
}
